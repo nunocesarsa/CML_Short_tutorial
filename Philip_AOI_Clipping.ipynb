{
  "nbformat": 4,
  "nbformat_minor": 0,
  "metadata": {
    "colab": {
      "name": "Philip_AOI_Clipping.ipynb",
      "provenance": [],
      "authorship_tag": "ABX9TyMQeM1WSM8dGs2/7kttenXZ",
      "include_colab_link": true
    },
    "kernelspec": {
      "name": "python3",
      "display_name": "Python 3"
    }
  },
  "cells": [
    {
      "cell_type": "markdown",
      "metadata": {
        "id": "view-in-github",
        "colab_type": "text"
      },
      "source": [
        "<a href=\"https://colab.research.google.com/github/nunocesarsa/CML_Short_tutorial/blob/master/Philip_AOI_Clipping.ipynb\" target=\"_parent\"><img src=\"https://colab.research.google.com/assets/colab-badge.svg\" alt=\"Open In Colab\"/></a>"
      ]
    },
    {
      "cell_type": "markdown",
      "metadata": {
        "id": "Ijx2s4fXj2SR",
        "colab_type": "text"
      },
      "source": [
        "# Importing google earth engine package"
      ]
    },
    {
      "cell_type": "code",
      "metadata": {
        "id": "BLdK1pw2jIzo",
        "colab_type": "code",
        "colab": {}
      },
      "source": [
        "#importing Earth Engine package\n",
        "import ee"
      ],
      "execution_count": 0,
      "outputs": []
    },
    {
      "cell_type": "markdown",
      "metadata": {
        "id": "iYkYLSC_kFQG",
        "colab_type": "text"
      },
      "source": [
        "#Authenticate with Google earth engine"
      ]
    },
    {
      "cell_type": "code",
      "metadata": {
        "id": "DQZ6Vli8kEhO",
        "colab_type": "code",
        "colab": {
          "base_uri": "https://localhost:8080/",
          "height": 176
        },
        "outputId": "b3de9180-b2ea-407d-944a-d77f74fae7c9"
      },
      "source": [
        "#then we need to authenticate\n",
        "# Trigger the authentication flow.\n",
        "ee.Authenticate()\n",
        "\n",
        "# Initialize the library.\n",
        "ee.Initialize()"
      ],
      "execution_count": 2,
      "outputs": [
        {
          "output_type": "stream",
          "text": [
            "To authorize access needed by Earth Engine, open the following URL in a web browser and follow the instructions. If the web browser does not start automatically, please manually browse the URL below.\n",
            "\n",
            "    https://accounts.google.com/o/oauth2/auth?client_id=517222506229-vsmmajv00ul0bs7p89v5m89qs8eb9359.apps.googleusercontent.com&scope=https%3A%2F%2Fwww.googleapis.com%2Fauth%2Fearthengine+https%3A%2F%2Fwww.googleapis.com%2Fauth%2Fdevstorage.full_control&redirect_uri=urn%3Aietf%3Awg%3Aoauth%3A2.0%3Aoob&response_type=code&code_challenge=vIBasNlW_j0rx_0eINcAoIpz8VFYuGOv5mP4xYRPRoM&code_challenge_method=S256\n",
            "\n",
            "The authorization workflow will generate a code, which you should paste in the box below. \n",
            "Enter verification code: 4/zAH55qZiXgOpAQmLDk-_I32iruygbWEsyOPN3fvGfby8CkciBNbv9nM\n",
            "\n",
            "Successfully saved authorization token.\n"
          ],
          "name": "stdout"
        }
      ]
    },
    {
      "cell_type": "markdown",
      "metadata": {
        "id": "L09AhE6HkrPZ",
        "colab_type": "text"
      },
      "source": [
        "#Connecting to google drive"
      ]
    },
    {
      "cell_type": "code",
      "metadata": {
        "id": "ggRJzBpXktOq",
        "colab_type": "code",
        "colab": {
          "base_uri": "https://localhost:8080/",
          "height": 124
        },
        "outputId": "171cf941-df33-41ad-a4d1-6738afccf77c"
      },
      "source": [
        "#and now we link the colab also to the google drive so we can use it to store the outputs\n",
        "from google.colab import drive\n",
        "drive.mount('/content/drive')"
      ],
      "execution_count": 3,
      "outputs": [
        {
          "output_type": "stream",
          "text": [
            "Go to this URL in a browser: https://accounts.google.com/o/oauth2/auth?client_id=947318989803-6bn6qk8qdgf4n4g3pfee6491hc0brc4i.apps.googleusercontent.com&redirect_uri=urn%3aietf%3awg%3aoauth%3a2.0%3aoob&response_type=code&scope=email%20https%3a%2f%2fwww.googleapis.com%2fauth%2fdocs.test%20https%3a%2f%2fwww.googleapis.com%2fauth%2fdrive%20https%3a%2f%2fwww.googleapis.com%2fauth%2fdrive.photos.readonly%20https%3a%2f%2fwww.googleapis.com%2fauth%2fpeopleapi.readonly\n",
            "\n",
            "Enter your authorization code:\n",
            "··········\n",
            "Mounted at /content/drive\n"
          ],
          "name": "stdout"
        }
      ]
    },
    {
      "cell_type": "markdown",
      "metadata": {
        "id": "XfC6wVkHlFw2",
        "colab_type": "text"
      },
      "source": [
        "#loading an image to visualize"
      ]
    },
    {
      "cell_type": "code",
      "metadata": {
        "id": "Adc6cR2_k8TN",
        "colab_type": "code",
        "colab": {
          "base_uri": "https://localhost:8080/",
          "height": 52
        },
        "outputId": "489751d2-c583-47b1-9702-f38c481ef2c4"
      },
      "source": [
        "#this is an area near portugal\n",
        "poly_area_coord = [[[5.246113067692444,52.384667950129675],\n",
        "                    [5.450046783512756,52.384667950129675],\n",
        "                    [5.450046783512756,52.498933771499490],\n",
        "                    [5.246113067692444,52.498933771499490],\n",
        "                    [5.246113067692444,52.384667950129675]]]\n",
        "\n",
        "\n",
        "#this is an area in the states\n",
        "#poly_area_coord =[[[-80.03741893712676,32.74469942210935],\n",
        "#                   [-79.8582044595877,32.74469942210935],\n",
        "#                   [-79.8582044595877,32.88319873037949],\n",
        "#                   [-80.03741893712676,32.88319873037949],\n",
        "#                   [-80.03741893712676,32.74469942210935]]]\n",
        "\n",
        "#This creates an earth engine polygon geometry\n",
        "poly_area = ee.Geometry.Polygon(poly_area_coord)\n",
        "\n",
        "#now we can use this, as a guide for selecting data\n",
        "#check out the product table itself: https://developers.google.com/earth-engine/datasets/catalog/LANDSAT_LC08_C01_T2_SR\n",
        "l8_collection = (ee.ImageCollection(\"COPERNICUS/S2_SR\") #selects the L8 Surface reflectance product in GEE\n",
        "                 .select(['B2','B3','B4',\n",
        "                          'B5','B6','B7',\n",
        "                          'B8A','B11','B12']) #selects the bands of interest - in this case we are actually picking up all of them\n",
        "                 .filter(ee.Filter.date('2020-03-01','2020-03-31')) #filters on the time - you can play around with this to select different dates..\n",
        "                 .filterBounds(poly_area) #filters on the Aoi we have created above\n",
        "                 .filter(ee.Filter.lt('CLOUDY_PIXEL_PERCENTAGE',10)))\n",
        "\n",
        "\n",
        "\n",
        "#l8_collection = (ee.ImageCollection(\"LANDSAT/LC08/C01/T1_SR\") #selects the L8 Surface reflectance product in GEE\n",
        "#                 .select(['B1','B2','B3','B4',\n",
        "#                          'B5','B6','B7',\n",
        "#                          'B10','B11']) #selects the bands of interest - in this case we are actually picking up all of them\n",
        "#                 .filter(ee.Filter.date('2017-06-01','2017-06-30')) #filtes on the time - you can play around with this to select different dates..\n",
        "#                 .filterBounds(poly_area) #filters on the Aoi we have created above\n",
        "#                 .filter(ee.Filter.lt('CLOUDY_PIXEL_PERCENTAGE',10))\n",
        "#                 )\n",
        "\n",
        "count = l8_collection.size()\n",
        "print('Nr of images in collection: ', str(count.getInfo())+'\\n')"
      ],
      "execution_count": 30,
      "outputs": [
        {
          "output_type": "stream",
          "text": [
            "Nr of images in collection:  2\n",
            "\n"
          ],
          "name": "stdout"
        }
      ]
    },
    {
      "cell_type": "code",
      "metadata": {
        "id": "UrBTaaPYlmGl",
        "colab_type": "code",
        "colab": {}
      },
      "source": [
        "mid_step = l8_collection.toList(count)\n",
        "l8_img = ee.Image(mid_step.get(0))\n",
        "l8_img_meta = l8_img.getInfo()\n",
        "#l8_img_meta #uncomment here if you want to see the dump\n",
        "\n",
        "#we can use ANY of these information on the metada to drive the query. For example, you might want to use a \"row path\" for landsat image instead of a polygon\n",
        "#or perhaps you want to use only data of specific quality. Based on this metadata is where you would make this selection"
      ],
      "execution_count": 0,
      "outputs": []
    },
    {
      "cell_type": "markdown",
      "metadata": {
        "id": "dh_kCJH6noYe",
        "colab_type": "text"
      },
      "source": [
        "#exploring the data"
      ]
    },
    {
      "cell_type": "code",
      "metadata": {
        "id": "i01QCXmnnpqW",
        "colab_type": "code",
        "colab": {
          "base_uri": "https://localhost:8080/",
          "height": 52
        },
        "outputId": "70e29f23-6e28-4f3b-e191-cb8171fef230"
      },
      "source": [
        "for i in range(count.getInfo()):\n",
        "  mid_step = l8_collection.toList(count) #this is an internal step to help us loop on the data itself\n",
        "  l8_img = ee.Image(mid_step.get(i)) #this fetches ith image on the collection \n",
        "  l8_img_meta = l8_img.getInfo()   #this creates an object which has only the metadata \n",
        "  print('At position',i,'is Product ID: ',l8_img_meta.get('properties',{}).get('PRODUCT_ID'))\n",
        "\n",
        "  #interpreting the output:\n",
        "  #Landsat naming convention:\n",
        "  #XXXX_YYYYYY_ZZZZZZZZ\n",
        "  #XXXX <- Product identifier LC08 is Landsat 8, level C\n",
        "  #YYYYYYY <- Path and row identifers -> USGS pushes the LS images into a grid for the entire planet, this is the idenfier of said grid\n",
        "  #ZZZZZZZZ <- Date in western calendar"
      ],
      "execution_count": 32,
      "outputs": [
        {
          "output_type": "stream",
          "text": [
            "At position 0 is Product ID:  S2B_MSIL2A_20200323T103639_N0214_R008_T31UFU_20200323T151634\n",
            "At position 1 is Product ID:  S2B_MSIL2A_20200326T104639_N0214_R051_T31UFU_20200326T141923\n"
          ],
          "name": "stdout"
        }
      ]
    },
    {
      "cell_type": "markdown",
      "metadata": {
        "id": "0-UUDmRboXK6",
        "colab_type": "text"
      },
      "source": [
        "\n",
        "# In the next part, we explore the image\n",
        "\n",
        "For this, we import folium pacakge, and create a specific function to assist. This is to make a prettier and more explorable map than the normal.\n",
        "\n",
        "(this was copy pasted, probably there are other ways of doing the same).\n",
        "\n",
        "This tutorial gives an excellent run down example of the many options in folium\n",
        "\n",
        "https://spatial.utk.edu/maps/ee-api-folium-setup.html"
      ]
    },
    {
      "cell_type": "code",
      "metadata": {
        "id": "ATQfkWqaoSkf",
        "colab_type": "code",
        "colab": {}
      },
      "source": [
        "#in here, we select an image of the list - in python lists start at 0\n",
        "mid_step = l8_collection.toList(count)\n",
        "l8_img = ee.Image(mid_step.get(1))\n",
        "\n",
        "#this command clips the image based on the original poly area\n",
        "l8_img_clip = l8_img.clip(poly_area)\n",
        "\n",
        "#first step now is to then generate a s2 image cropped to our aoi, and for information i will also plot it on the map\n",
        "\n",
        "# Import the Folium library. This library is to assist in visualizations\n",
        "import folium\n",
        "\n",
        "# Import the Image function from the IPython.display module. \n",
        "from IPython.display import Image\n",
        "\n",
        "\n",
        "#the next code snippet i stole from someone\n",
        "# Define a method for displaying Earth Engine image tiles to folium map.\n",
        "\n",
        "#this is a simplified version of the original function\n",
        "def add_ee_layer(self, ee_image_object, vis_params, name):\n",
        "  \n",
        "  map_id_dict = ee.Image(ee_image_object).getMapId(vis_params)\n",
        "  folium.raster_layers.TileLayer(\n",
        "    tiles = map_id_dict['tile_fetcher'].url_format,\n",
        "    attr = 'Map Data &copy; <a href=\"https://earthengine.google.com/\">Google Earth Engine</a>',\n",
        "    name = name,\n",
        "    overlay = True,\n",
        "    control = True\n",
        "  ).add_to(self)\n",
        "\n",
        "# Add EE drawing method to folium.\n",
        "folium.Map.add_ee_layer = add_ee_layer\n",
        "\n",
        "\n",
        "# This first step sets up where is the \"default starting position\" of the map. And also the zoom\n",
        "#my_map = folium.Map(location=[33,-80], zoom_start=8) #this had to be tried one by one... feels daft\n",
        "my_map = folium.Map(location=[0,0], zoom_start=2) #this had to be tried one by one... feels daft\n",
        "\n",
        "\n",
        "# Set visualization parameters. Here is we can create different visualizations of our data\n",
        "visParams = {\"bands\": ['B4', 'B3', 'B2'],\"gain\": '0.1, 0.1, 0.1',\"scale\":20}\n",
        "visParams_nir = {\"bands\": ['B8A', 'B4', 'B3'],\"gain\": '0.1, 0.1, 0.1',\"scale\":20}\n",
        "\n",
        "# Add the image to the folium map\n",
        "my_map.add_ee_layer(l8_img, visParams, 'RGB composite')\n",
        "my_map.add_ee_layer(l8_img_clip, visParams_nir, 'NIR composite - clipped')\n",
        "my_map.add_ee_layer(l8_img, visParams_nir, 'NIR composite')\n",
        "\n",
        "#it is also possible to do calculations on the band - this saves a lot of computation time from your own computer\n",
        "\n",
        "#normalized difference is already set up on google earth engine so it is especially easy to use\n",
        "#ndvi = l8_img.normalizedDifference(['B8A', 'B4'])\n",
        "#i copied this pallete from: https://developers.google.com/earth-engine/datasets/catalog/MODIS_MOD09GA_006_NDVI\n",
        "#ndviParams = {'min': -1, 'max': 1, 'palette': ['lightblue','cyan','blue','darkblue','brown','lightgreen','green','darkgreen']};\n",
        "#ndviParams = {'min': 0, 'max': 1, 'palette': ['blue','brown','white','lightgreen','green','darkgreen']}; #this is a bit trial and error actualy..\n",
        "\n",
        "#now we just add it\n",
        "#my_map.add_ee_layer(ndvi, ndviParams, 'NDVI')\n",
        "\n",
        "#but if we want to make more complex operations, it is also possible\n",
        "#and why not a normalized burn ratio, used for this purpose: https://en.wikipedia.org/wiki/Enhanced_vegetation_index\n",
        "#evi = l8_img.expression('G*((Band5 - Band4)/(Band5+6*Band4-7.5*Band2+L))', \n",
        "#                        {'G':1,\n",
        "#                         'L':2,\n",
        "#                         'Band5':l8_img.select(\"B8A\"),\n",
        "#                         'Band4':l8_img.select(\"B4\"),\n",
        "#                         'Band2':l8_img.select(\"B3\")}) #first we create an expression and then we tell it what is what. We can change the scalers and etc\n",
        "\n",
        "#eviParams =  {'min': 0, 'max': 1, 'palette': ['blue','brown','white','lightgreen','green','darkgreen']}; #this is a bit trial and error actualy.. and the map will likely look horrible\n",
        "#my_map.add_ee_layer(evi, eviParams, 'EVI')\n",
        "\n",
        "#my_map.add_ee_layer(LC_proj,landcoverVis,\"ola\")\n",
        "\n",
        "\n",
        "# Add a layer control panel to the map.\n",
        "my_map.add_child(folium.LayerControl())\n",
        "\n",
        "\n",
        "# Display the map.\n",
        "display(my_map)"
      ],
      "execution_count": 0,
      "outputs": []
    },
    {
      "cell_type": "markdown",
      "metadata": {
        "id": "qsHcjlfos2Ck",
        "colab_type": "text"
      },
      "source": [
        "Now, here, read carefully. The way it works is the google colab will send a \"task\" order to GEE and that task will be running on the background.\n",
        "\n",
        "This means that if you run the next box many times you will have multiple tasks being sent.\n",
        "\n",
        "On the other hand, if you save a \"big image\" then you take a lot of time and space of your drive. So you can just extract the clipped area of your study location and focus on that - makes it easier to set up your own models on your own machine this way."
      ]
    },
    {
      "cell_type": "code",
      "metadata": {
        "id": "YT10HKUzxofs",
        "colab_type": "code",
        "colab": {}
      },
      "source": [
        "#getting the filenames\n",
        "imagename = l8_img_meta.get('properties',{}).get('PRODUCT_ID')"
      ],
      "execution_count": 0,
      "outputs": []
    },
    {
      "cell_type": "code",
      "metadata": {
        "id": "Y62uNmhN0dDa",
        "colab_type": "code",
        "colab": {
          "base_uri": "https://localhost:8080/",
          "height": 35
        },
        "outputId": "04c2a19f-7df1-4ca7-86c7-acde8b78ea16"
      },
      "source": [
        "l8_img_meta.get('properties',{}).get('PRODUCT_ID')"
      ],
      "execution_count": 68,
      "outputs": [
        {
          "output_type": "execute_result",
          "data": {
            "text/plain": [
              "'S2B_MSIL2A_20200326T104639_N0214_R051_T31UFU_20200326T141923'"
            ]
          },
          "metadata": {
            "tags": []
          },
          "execution_count": 68
        }
      ]
    },
    {
      "cell_type": "code",
      "metadata": {
        "id": "wq7zoDxaxzFs",
        "colab_type": "code",
        "colab": {
          "base_uri": "https://localhost:8080/",
          "height": 35
        },
        "outputId": "eeaab599-94ff-4867-f6a9-78e25bb332de"
      },
      "source": [
        "imagename[0:19]"
      ],
      "execution_count": 64,
      "outputs": [
        {
          "output_type": "execute_result",
          "data": {
            "text/plain": [
              "'S2B_MSIL2A_20200326'"
            ]
          },
          "metadata": {
            "tags": []
          },
          "execution_count": 64
        }
      ]
    },
    {
      "cell_type": "code",
      "metadata": {
        "id": "VdzUGt4gswfd",
        "colab_type": "code",
        "colab": {}
      },
      "source": [
        "#these are task commands to be sent to GEE\n",
        "task_config = {\n",
        "    'image': l8_img,\n",
        "    'fileFormat': 'GeoTIFF',\n",
        "    'folder': 'OVP_AOI_Phillip',\n",
        "    'fileNamePrefix': imagename[0:19],\n",
        "    'description': \"clipped area\",\n",
        "    'scale':20,\n",
        "    'region':poly_area\n",
        "}\n",
        "\n",
        "#This is how we order it to start\n",
        "task = ee.batch.Export.image.toDrive(**task_config )\n",
        "task.start()"
      ],
      "execution_count": 0,
      "outputs": []
    },
    {
      "cell_type": "code",
      "metadata": {
        "id": "DXC--vFTt88a",
        "colab_type": "code",
        "colab": {
          "base_uri": "https://localhost:8080/",
          "height": 156
        },
        "outputId": "2031c87b-86c7-468e-e090-09c74c486558"
      },
      "source": [
        "#to check if the task is running or completed, or failed, run this\n",
        "task.status()"
      ],
      "execution_count": 67,
      "outputs": [
        {
          "output_type": "execute_result",
          "data": {
            "text/plain": [
              "{'creation_timestamp_ms': 1587993934232,\n",
              " 'description': 'clipped area',\n",
              " 'id': 'JMW4HPYR5NWCATQXTNDHS3LK',\n",
              " 'name': 'projects/earthengine-legacy/operations/JMW4HPYR5NWCATQXTNDHS3LK',\n",
              " 'start_timestamp_ms': 0,\n",
              " 'state': 'READY',\n",
              " 'task_type': 'EXPORT_IMAGE',\n",
              " 'update_timestamp_ms': 1587993934232}"
            ]
          },
          "metadata": {
            "tags": []
          },
          "execution_count": 67
        }
      ]
    }
  ]
}